{
 "cells": [
  {
   "cell_type": "markdown",
   "metadata": {
    "id": "41ncDfQIZ5gG"
   },
   "source": [
    "# **Project 3 Report**\n",
    "\n",
    "Jason Brown\n",
    "\n",
    "CS458"
   ]
  },
  {
   "cell_type": "code",
   "execution_count": 14,
   "metadata": {},
   "outputs": [],
   "source": [
    "import os\n",
    "import numpy as np\n",
    "from sklearn.datasets import fetch_20newsgroups\n",
    "from sklearn import svm\n",
    "from sklearn.model_selection import train_test_split\n",
    "from sklearn.metrics import confusion_matrix\n",
    "from sklearn.metrics import classification_report\n",
    "from sklearn.feature_extraction.text import TfidfVectorizer\n",
    "from sklearn.naive_bayes import MultinomialNB\n",
    "from sklearn.neighbors import KNeighborsClassifier\n",
    "from sklearn.ensemble import RandomForestClassifier\n",
    "from sklearn.ensemble import AdaBoostClassifier\n",
    "from sklearn.datasets import load_digits\n",
    "from sklearn.neural_network import MLPClassifier\n",
    "import matplotlib.pyplot as plt\n",
    "from sklearn.metrics import ConfusionMatrixDisplay\n",
    "from sklearn.svm import NuSVC"
   ]
  },
  {
   "cell_type": "markdown",
   "metadata": {
    "id": "h8goBinPaYnd"
   },
   "source": [
    "## **P3-1. Revisit Text Document Classification**\n",
    "\n",
    "**(a) Load the following 4 categories from the 20 newsgroups dataset: categories = ['rec.autos', 'talk.religion.misc', 'comp.graphics', 'sci.space'].**"
   ]
  },
  {
   "cell_type": "code",
   "execution_count": 3,
   "metadata": {
    "id": "4HJGE1w1aTqC",
    "tags": [
     "outputPrepend"
    ]
   },
   "outputs": [],
   "source": [
    "cats = ['rec.autos', 'talk.religion.misc', 'comp.graphics', 'sci.space']\n",
    "news_train = fetch_20newsgroups(subset='train', categories=cats, remove=('headers', 'footers', 'quotes'))\n",
    "news_test = fetch_20newsgroups(subset='test', categories=cats,remove=('headers', 'footers', 'quotes'))\n"
   ]
  },
  {
   "cell_type": "markdown",
   "metadata": {
    "id": "Y697pjx7bEqB"
   },
   "source": [
    "**(b)Build classifiers using the following methods:\n",
    " Support Vector Machine (sklearn.svm.LinearSVC)\n",
    " Naive Bayes classifiers (sklearn.naive_bayes.MultinomialNB)\n",
    " K-nearest neighbors (sklearn.neighbors.KNeighborsClassifier)\n",
    " Random forest (sklearn.ensemble.RandomForestClassifier)\n",
    " AdaBoost classifier (sklearn.ensemble.AdaBoostClassifier)\n",
    "Optimize the hyperparameters of these methods and compare the results of these methods.**"
   ]
  },
  {
   "cell_type": "code",
   "execution_count": 5,
   "metadata": {
    "colab": {
     "base_uri": "https://localhost:8080/",
     "height": 35
    },
    "id": "VGfsolCrbInO",
    "outputId": "6ad9aa14-3a19-4410-d01d-801cf0297e49"
   },
   "outputs": [
    {
     "name": "stdout",
     "output_type": "stream",
     "text": [
      "********************* LINEAR SVM *********************\n",
      "              precision    recall  f1-score   support\n",
      "\n",
      "           0       0.91      0.90      0.91       389\n",
      "           1       0.81      0.91      0.86       396\n",
      "           2       0.87      0.83      0.85       394\n",
      "           3       0.90      0.79      0.84       251\n",
      "\n",
      "    accuracy                           0.87      1430\n",
      "   macro avg       0.87      0.86      0.86      1430\n",
      "weighted avg       0.87      0.87      0.87      1430\n",
      "\n",
      "******************** NAIVE BAYES ********************\n",
      "              precision    recall  f1-score   support\n",
      "\n",
      "           0       0.91      0.87      0.89       389\n",
      "           1       0.75      0.94      0.84       396\n",
      "           2       0.74      0.87      0.80       394\n",
      "           3       1.00      0.37      0.54       251\n",
      "\n",
      "    accuracy                           0.80      1430\n",
      "   macro avg       0.85      0.77      0.77      1430\n",
      "weighted avg       0.83      0.80      0.79      1430\n",
      "\n",
      "**************** K NEAREST NEIGHBORS ****************\n",
      "              precision    recall  f1-score   support\n",
      "\n",
      "           0       0.29      0.19      0.23       389\n",
      "           1       0.30      0.65      0.41       396\n",
      "           2       0.30      0.15      0.20       394\n",
      "           3       0.21      0.10      0.13       251\n",
      "\n",
      "    accuracy                           0.29      1430\n",
      "   macro avg       0.28      0.27      0.25      1430\n",
      "weighted avg       0.28      0.29      0.26      1430\n",
      "\n",
      "******************* RANDOM FOREST *******************\n",
      "              precision    recall  f1-score   support\n",
      "\n",
      "           0       0.82      0.85      0.83       389\n",
      "           1       0.70      0.86      0.77       396\n",
      "           2       0.80      0.75      0.77       394\n",
      "           3       0.92      0.62      0.74       251\n",
      "\n",
      "    accuracy                           0.79      1430\n",
      "   macro avg       0.81      0.77      0.78      1430\n",
      "weighted avg       0.80      0.79      0.78      1430\n",
      "\n",
      "********************* ADABOOST *********************\n",
      "              precision    recall  f1-score   support\n",
      "\n",
      "           0       0.83      0.73      0.78       389\n",
      "           1       0.56      0.76      0.65       396\n",
      "           2       0.70      0.60      0.64       394\n",
      "           3       0.73      0.62      0.67       251\n",
      "\n",
      "    accuracy                           0.68      1430\n",
      "   macro avg       0.70      0.68      0.68      1430\n",
      "weighted avg       0.70      0.68      0.69      1430\n",
      "\n"
     ]
    }
   ],
   "source": [
    "vectorizer = TfidfVectorizer()\n",
    "xtrain = vectorizer.fit_transform(news_train.data)\n",
    "xtest = vectorizer.transform(news_test.data)\n",
    "\n",
    "ytrain = news_train.target\n",
    "ytest = news_test.target\n",
    "\n",
    "#Linear Support Vector Machine\n",
    "clf = svm.LinearSVC()\n",
    "clf.fit(xtrain, ytrain)\n",
    "ypred = clf.predict(xtest)\n",
    "cr = classification_report(ytest, ypred)\n",
    "print(\"********************* LINEAR SVM *********************\")\n",
    "print(cr)\n",
    "\n",
    "#Naive Bayes Classifiers\n",
    "clf = MultinomialNB()\n",
    "clf.fit(xtrain, ytrain)\n",
    "ypred = clf.predict(xtest)\n",
    "cr = classification_report(ytest, ypred)\n",
    "print(\"******************** NAIVE BAYES ********************\")\n",
    "print(cr)\n",
    "\n",
    "#K Nearest Neighbors\n",
    "clf = KNeighborsClassifier()\n",
    "clf.fit(xtrain, ytrain)\n",
    "ypred = clf.predict(xtest)\n",
    "cr = classification_report(ytest, ypred)\n",
    "print(\"**************** K NEAREST NEIGHBORS ****************\")\n",
    "print(cr)\n",
    "\n",
    "#Random Forest\n",
    "clf = RandomForestClassifier()\n",
    "clf.fit(xtrain, ytrain)\n",
    "ypred = clf.predict(xtest)\n",
    "cr = classification_report(ytest, ypred)\n",
    "print(\"******************* RANDOM FOREST *******************\")\n",
    "print(cr)\n",
    "\n",
    "#AdaBoost Classifier\n",
    "clf = AdaBoostClassifier()\n",
    "clf.fit(xtrain, ytrain)\n",
    "ypred = clf.predict(xtest)\n",
    "cr = classification_report(ytest, ypred)\n",
    "print(\"********************* ADABOOST *********************\")\n",
    "print(cr)"
   ]
  },
  {
   "cell_type": "markdown",
   "metadata": {
    "id": "0NqsEu79cftE"
   },
   "source": [
    "DISCUSS THEM HERE"
   ]
  },
  {
   "cell_type": "markdown",
   "metadata": {
    "id": "ot87gIvndb4b"
   },
   "source": [
    "# **P3-2. Recognizing Hand-Written Digits**"
   ]
  },
  {
   "cell_type": "markdown",
   "metadata": {
    "id": "YcX7qMj9dfLm"
   },
   "source": [
    "**(a) Develop a multi-layer perceptron classifier to recognize images of hand-written digits. To build your classifier"
   ]
  },
  {
   "cell_type": "code",
   "execution_count": 6,
   "metadata": {
    "colab": {
     "base_uri": "https://localhost:8080/",
     "height": 35
    },
    "id": "Sqsx5tNndiDU",
    "outputId": "04b343b5-b8df-463a-cca9-2cbdd24d459c"
   },
   "outputs": [
    {
     "name": "stdout",
     "output_type": "stream",
     "text": [
      "************** DEFAULT MLP CLASSIFIER ***************\n",
      "              precision    recall  f1-score   support\n",
      "\n",
      "           0       1.00      1.00      1.00        90\n",
      "           1       0.91      1.00      0.96        85\n",
      "           2       0.98      1.00      0.99        90\n",
      "           3       1.00      0.92      0.96        89\n",
      "           4       1.00      0.99      0.99        85\n",
      "           5       0.96      0.97      0.96        90\n",
      "           6       0.99      0.96      0.97        99\n",
      "           7       0.99      1.00      0.99        89\n",
      "           8       0.91      0.88      0.89        90\n",
      "           9       0.96      0.98      0.97        92\n",
      "\n",
      "    accuracy                           0.97       899\n",
      "   macro avg       0.97      0.97      0.97       899\n",
      "weighted avg       0.97      0.97      0.97       899\n",
      "\n",
      "******* CONFUSION MATRIX *******\n",
      "[[90  0  0  0  0  0  0  0  0  0]\n",
      " [ 0 85  0  0  0  0  0  0  0  0]\n",
      " [ 0  0 90  0  0  0  0  0  0  0]\n",
      " [ 0  0  0 82  0  1  0  0  4  2]\n",
      " [ 0  0  0  0 84  0  0  0  1  0]\n",
      " [ 0  0  0  0  0 87  0  0  1  2]\n",
      " [ 0  1  0  0  0  1 95  0  2  0]\n",
      " [ 0  0  0  0  0  0  0 89  0  0]\n",
      " [ 0  7  2  0  0  1  1  0 79  0]\n",
      " [ 0  0  0  0  0  1  0  1  0 90]]\n"
     ]
    }
   ],
   "source": [
    "digits = load_digits()\n",
    "X = digits.data\n",
    "y = digits.target\n",
    "X_train, X_test, y_train, y_test = train_test_split(X, y, test_size=.5)\n",
    "\n",
    "#MLP CLassifier with no parameters\n",
    "clf = MLPClassifier()\n",
    "clf.fit(X_train, y_train)\n",
    "ypred = clf.predict(X_test)\n",
    "cr = classification_report(y_test, ypred)\n",
    "print(\"************** DEFAULT MLP CLASSIFIER ***************\")\n",
    "print(cr)\n",
    "cm = confusion_matrix(y_test, ypred)\n",
    "print(\"******* CONFUSION MATRIX *******\")\n",
    "print(cm)"
   ]
  }
 ],
 "metadata": {
  "colab": {
   "name": "ProjectTemplate.ipynb",
   "provenance": []
  },
  "kernelspec": {
   "display_name": "Python 3 (ipykernel)",
   "language": "python",
   "name": "python3"
  },
  "language_info": {
   "codemirror_mode": {
    "name": "ipython",
    "version": 3
   },
   "file_extension": ".py",
   "mimetype": "text/x-python",
   "name": "python",
   "nbconvert_exporter": "python",
   "pygments_lexer": "ipython3",
   "version": "3.10.0"
  }
 },
 "nbformat": 4,
 "nbformat_minor": 1
}
